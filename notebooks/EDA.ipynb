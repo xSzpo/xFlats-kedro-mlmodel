{
 "cells": [
  {
   "cell_type": "markdown",
   "id": "selective-queens",
   "metadata": {},
   "source": [
    "Use Kedro with IPython and Jupyter Notebooks/Lab    \n",
    "\n",
    "https://kedro.readthedocs.io/en/latest/11_tools_integration/02_ipython.html\n"
   ]
  },
  {
   "cell_type": "code",
   "execution_count": 2,
   "id": "analyzed-circular",
   "metadata": {},
   "outputs": [
    {
     "name": "stdout",
     "output_type": "stream",
     "text": [
      "2021-03-06 19:53:46,069 - kedro.io.data_catalog - INFO - Loading data from `flatsjsonlines` (JSONLineDataSet)...\n"
     ]
    }
   ],
   "source": [
    "df = catalog.load('flatsjsonlines')"
   ]
  },
  {
   "cell_type": "code",
   "execution_count": 3,
   "id": "accessible-senate",
   "metadata": {},
   "outputs": [
    {
     "name": "stdout",
     "output_type": "stream",
     "text": [
      "2021-03-06 19:55:07,370 - kedro.framework.session.store - INFO - `read()` not implemented for `BaseSessionStore`. Assuming empty store.\n",
      "2021-03-06 19:55:07,474 - root - INFO - ** Kedro project xflats\n",
      "2021-03-06 19:55:07,476 - root - INFO - Defined global variable `context`, `session` and `catalog`\n",
      "2021-03-06 19:55:07,486 - root - INFO - Registered line magic `run_viz`\n"
     ]
    }
   ],
   "source": [
    "%reload_kedro"
   ]
  }
 ],
 "metadata": {
  "kernelspec": {
   "display_name": "xflats",
   "language": "python",
   "name": "python3"
  },
  "language_info": {
   "codemirror_mode": {
    "name": "ipython",
    "version": 3
   },
   "file_extension": ".py",
   "mimetype": "text/x-python",
   "name": "python",
   "nbconvert_exporter": "python",
   "pygments_lexer": "ipython3",
   "version": "3.8.8"
  }
 },
 "nbformat": 4,
 "nbformat_minor": 5
}
