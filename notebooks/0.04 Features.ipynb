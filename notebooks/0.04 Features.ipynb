{
 "cells": [
  {
   "cell_type": "markdown",
   "id": "literary-vocabulary",
   "metadata": {},
   "source": [
    "https://kedro.readthedocs.io/en/stable/12_faq/01_faq.html#what-is-data-engineering-convention"
   ]
  },
  {
   "cell_type": "code",
   "execution_count": 1,
   "id": "sapphire-marriage",
   "metadata": {},
   "outputs": [],
   "source": [
    "import numpy as np\n",
    "import pandas as pd"
   ]
  },
  {
   "cell_type": "code",
   "execution_count": 2,
   "id": "informal-assessment",
   "metadata": {},
   "outputs": [
    {
     "name": "stdout",
     "output_type": "stream",
     "text": [
      "2021-03-28 20:23:46,815 - kedro.framework.session.store - INFO - `read()` not implemented for `BaseSessionStore`. Assuming empty store.\n",
      "2021-03-28 20:23:46,921 - root - INFO - ** Kedro project xflats\n",
      "2021-03-28 20:23:46,923 - root - INFO - Defined global variable `context`, `session` and `catalog`\n",
      "2021-03-28 20:23:46,938 - root - INFO - Registered line magic `run_viz`\n"
     ]
    }
   ],
   "source": [
    "%reload_kedro"
   ]
  },
  {
   "cell_type": "code",
   "execution_count": 3,
   "id": "victorian-worry",
   "metadata": {},
   "outputs": [
    {
     "name": "stdout",
     "output_type": "stream",
     "text": [
      "2021-03-28 20:23:46,957 - kedro.io.data_catalog - INFO - Loading data from `preprocessed_flats` (ParquetDataSet)...\n"
     ]
    }
   ],
   "source": [
    "df = catalog.load('preprocessed_flats')"
   ]
  },
  {
   "cell_type": "markdown",
   "id": "comfortable-revolution",
   "metadata": {},
   "source": [
    "## Features - prices in neighbourhood"
   ]
  },
  {
   "cell_type": "code",
   "execution_count": 4,
   "id": "norwegian-cartridge",
   "metadata": {},
   "outputs": [
    {
     "data": {
      "text/plain": [
       "Index(['_id', 'tracking_id', 'price', 'name', 'location', 'flat_size', 'rooms',\n",
       "       'floor', 'producer_name', 'price_m2', 'market', 'building_type',\n",
       "       'description', 'additional_info', 'number_of_floors',\n",
       "       'building_material', 'year_of_building', 'property_form',\n",
       "       'download_date', 'download_date_utc', 'offeror', 'date_created',\n",
       "       'date_modified', 'GC_latitude', 'GC_longitude', 'GC_boundingbox',\n",
       "       'GC_addr_road', 'GC_addr_neighbourhood', 'GC_addr_suburb',\n",
       "       'GC_addr_city', 'GC_addr_state', 'GC_addr_postcode', 'GC_addr_country',\n",
       "       'GC_addr_country_code', 'prediction', 'date_offer'],\n",
       "      dtype='object')"
      ]
     },
     "execution_count": 4,
     "metadata": {},
     "output_type": "execute_result"
    }
   ],
   "source": [
    "df.columns"
   ]
  },
  {
   "cell_type": "code",
   "execution_count": 5,
   "id": "statewide-clear",
   "metadata": {},
   "outputs": [
    {
     "data": {
      "text/plain": [
       "Wola              22092\n",
       "Mokotów           22047\n",
       "Śródmieście       17416\n",
       "Białołęka         17020\n",
       "Praga-Południe    13841\n",
       "Ursynów            9432\n",
       "Bemowo             8923\n",
       "Bielany            7429\n",
       "Ursus              7202\n",
       "Targówek           6229\n",
       "Ochota             5966\n",
       "Wilanów            5207\n",
       "Włochy             4825\n",
       "Praga-Północ       4417\n",
       "Warszawa           4203\n",
       "Żoliborz           3728\n",
       "Wawer              3220\n",
       "Sielce             1340\n",
       "Rembertów          1113\n",
       "Wesoła              680\n",
       "Natolin             286\n",
       "Imielin              11\n",
       "Kabaty                8\n",
       "Wolica                1\n",
       "Name: GC_addr_suburb, dtype: int64"
      ]
     },
     "execution_count": 5,
     "metadata": {},
     "output_type": "execute_result"
    }
   ],
   "source": [
    "df.GC_addr_suburb.value_counts()\n"
   ]
  },
  {
   "cell_type": "code",
   "execution_count": 6,
   "id": "infrared-seating",
   "metadata": {},
   "outputs": [
    {
     "name": "stdout",
     "output_type": "stream",
     "text": [
      "2021-03-28 20:23:50,048 - numexpr.utils - INFO - NumExpr defaulting to 4 threads.\n"
     ]
    }
   ],
   "source": [
    "_districts = list(pd.DataFrame(df.GC_addr_suburb.value_counts()).query(\"GC_addr_suburb > 1000\").index)\n",
    "_districts = [i for i in _districts if i not in ['Warszawa']]\n",
    "\n",
    "df.GC_addr_suburb = [i if i in _districts else np.nan for i in df.GC_addr_suburb]\n",
    "df['date_offer_d'] = df.date_offer.dt.floor(\"D\")\n"
   ]
  },
  {
   "cell_type": "code",
   "execution_count": 7,
   "id": "interim-bridal",
   "metadata": {},
   "outputs": [],
   "source": [
    "date_max = df['date_offer_d'].max()"
   ]
  },
  {
   "cell_type": "code",
   "execution_count": 8,
   "id": "expanded-thing",
   "metadata": {},
   "outputs": [
    {
     "data": {
      "text/plain": [
       "Timestamp('2021-03-27 00:00:00')"
      ]
     },
     "execution_count": 8,
     "metadata": {},
     "output_type": "execute_result"
    }
   ],
   "source": [
    "date_max"
   ]
  },
  {
   "cell_type": "code",
   "execution_count": 9,
   "id": "mental-partition",
   "metadata": {},
   "outputs": [
    {
     "name": "stdout",
     "output_type": "stream",
     "text": [
      "Bemowo pierwotny 2021-03-25 00:00:00\n",
      "Bemowo wtorny 2021-03-26 00:00:00\n",
      "Ursynów pierwotny 2021-03-26 00:00:00\n",
      "Ursynów wtorny 2021-03-26 00:00:00\n",
      "Wola pierwotny 2021-03-26 00:00:00\n",
      "Wawer pierwotny 2021-03-26 00:00:00\n",
      "Wawer wtorny 2021-03-26 00:00:00\n",
      "Ursus pierwotny 2021-03-26 00:00:00\n",
      "Ursus wtorny 2021-03-26 00:00:00\n",
      "Śródmieście pierwotny 2021-03-26 00:00:00\n",
      "nan pierwotny NaT\n",
      "nan wtorny NaT\n",
      "Praga-Północ pierwotny 2021-03-26 00:00:00\n",
      "Praga-Północ wtorny 2021-03-26 00:00:00\n",
      "Bielany pierwotny 2021-03-26 00:00:00\n",
      "Bielany wtorny 2021-03-26 00:00:00\n",
      "Praga-Południe pierwotny 2021-03-26 00:00:00\n",
      "Praga-Południe wtorny 2021-03-26 00:00:00\n",
      "Targówek pierwotny 2021-03-24 00:00:00\n",
      "Targówek wtorny 2021-03-26 00:00:00\n",
      "Ochota pierwotny 2021-03-22 00:00:00\n",
      "Ochota wtorny 2021-03-26 00:00:00\n",
      "Wilanów pierwotny 2021-03-26 00:00:00\n",
      "Wilanów wtorny 2021-03-26 00:00:00\n",
      "Mokotów pierwotny 2021-03-26 00:00:00\n",
      "Mokotów wtorny 2021-03-26 00:00:00\n",
      "Włochy pierwotny 2021-03-26 00:00:00\n",
      "Włochy wtorny 2021-03-26 00:00:00\n",
      "Żoliborz pierwotny 2021-03-25 00:00:00\n",
      "Żoliborz wtorny 2021-03-26 00:00:00\n",
      "Rembertów pierwotny 2021-03-26 00:00:00\n",
      "Rembertów wtorny 2021-03-25 00:00:00\n",
      "Sielce pierwotny 2020-06-10 00:00:00\n",
      "Sielce wtorny 2020-06-10 00:00:00\n"
     ]
    }
   ],
   "source": [
    "for sub in df.GC_addr_suburb.unique():\n",
    "    for mar in df.market.unique():\n",
    "        _date = df.query(f\"GC_addr_suburb=='{sub}' and market=='{mar}'\")['date_offer_d'].max()\n",
    "        if _date != date_max:\n",
    "            print(sub, mar, _date)"
   ]
  },
  {
   "cell_type": "code",
   "execution_count": 10,
   "id": "married-replica",
   "metadata": {},
   "outputs": [],
   "source": [
    "df.set_index('date_offer_d', inplace=True)\n",
    "\n",
    "#period_length \n",
    "tmp01 = df[['GC_addr_suburb','market','price']].groupby(['GC_addr_suburb','market']).resample('W')\n",
    "\n",
    "_kind = ['median','mean']\n",
    "_weeks = [1, 2, 3, 4, 8, 12]\n",
    "results = list()\n",
    "\n",
    "_start = None\n",
    "\n",
    "for _k in _kind:\n",
    "    for _w in _weeks:\n",
    "        tmp01_agr = tmp01.aggregate(_k)\n",
    "        # calculation not including day 0 - ex. for 2021-03-30, 7 days is 2021-03-29 -> 2021-03-23\n",
    "        tmp01_agr_last_x_weeks= tmp01_agr.rolling(_w, min_periods=0).aggregate(_k).shift(1).round(0)\n",
    "        tmp01_agr_last_x_weeks = tmp01_agr_last_x_weeks.reset_index()\n",
    "        _col_name = f'price_{_k}_{str(_w).zfill(2)}w'\n",
    "        tmp01_agr_last_x_weeks.columns = ['GC_addr_suburb','market','date_offer_d',_col_name]\n",
    "        if _start:\n",
    "            df_aggr[_col_name] = tmp01_agr_last_x_weeks[_col_name]\n",
    "        else:\n",
    "            _start = 1\n",
    "            df_aggr = tmp01_agr_last_x_weeks.copy()\n"
   ]
  },
  {
   "cell_type": "code",
   "execution_count": 11,
   "id": "electrical-cruise",
   "metadata": {},
   "outputs": [
    {
     "data": {
      "text/html": [
       "<div>\n",
       "<style scoped>\n",
       "    .dataframe tbody tr th:only-of-type {\n",
       "        vertical-align: middle;\n",
       "    }\n",
       "\n",
       "    .dataframe tbody tr th {\n",
       "        vertical-align: top;\n",
       "    }\n",
       "\n",
       "    .dataframe thead th {\n",
       "        text-align: right;\n",
       "    }\n",
       "</style>\n",
       "<table border=\"1\" class=\"dataframe\">\n",
       "  <thead>\n",
       "    <tr style=\"text-align: right;\">\n",
       "      <th></th>\n",
       "      <th>GC_addr_suburb</th>\n",
       "      <th>market</th>\n",
       "      <th>date_offer_d</th>\n",
       "      <th>price_median_01w</th>\n",
       "      <th>price_median_02w</th>\n",
       "      <th>price_median_03w</th>\n",
       "      <th>price_median_04w</th>\n",
       "      <th>price_median_08w</th>\n",
       "      <th>price_median_12w</th>\n",
       "      <th>price_mean_01w</th>\n",
       "      <th>price_mean_02w</th>\n",
       "      <th>price_mean_03w</th>\n",
       "      <th>price_mean_04w</th>\n",
       "      <th>price_mean_08w</th>\n",
       "      <th>price_mean_12w</th>\n",
       "    </tr>\n",
       "  </thead>\n",
       "  <tbody>\n",
       "    <tr>\n",
       "      <th>0</th>\n",
       "      <td>Bemowo</td>\n",
       "      <td>pierwotny</td>\n",
       "      <td>2020-03-15</td>\n",
       "      <td>NaN</td>\n",
       "      <td>NaN</td>\n",
       "      <td>NaN</td>\n",
       "      <td>NaN</td>\n",
       "      <td>NaN</td>\n",
       "      <td>NaN</td>\n",
       "      <td>NaN</td>\n",
       "      <td>NaN</td>\n",
       "      <td>NaN</td>\n",
       "      <td>NaN</td>\n",
       "      <td>NaN</td>\n",
       "      <td>NaN</td>\n",
       "    </tr>\n",
       "    <tr>\n",
       "      <th>1</th>\n",
       "      <td>Bemowo</td>\n",
       "      <td>pierwotny</td>\n",
       "      <td>2020-03-22</td>\n",
       "      <td>610500.0</td>\n",
       "      <td>610500.0</td>\n",
       "      <td>610500.0</td>\n",
       "      <td>610500.0</td>\n",
       "      <td>610500.0</td>\n",
       "      <td>610500.0</td>\n",
       "      <td>705270.0</td>\n",
       "      <td>705270.0</td>\n",
       "      <td>705270.0</td>\n",
       "      <td>705270.0</td>\n",
       "      <td>705270.0</td>\n",
       "      <td>705270.0</td>\n",
       "    </tr>\n",
       "    <tr>\n",
       "      <th>2</th>\n",
       "      <td>Bemowo</td>\n",
       "      <td>pierwotny</td>\n",
       "      <td>2020-03-29</td>\n",
       "      <td>1046257.0</td>\n",
       "      <td>828378.0</td>\n",
       "      <td>828378.0</td>\n",
       "      <td>828378.0</td>\n",
       "      <td>828378.0</td>\n",
       "      <td>828378.0</td>\n",
       "      <td>922631.0</td>\n",
       "      <td>813951.0</td>\n",
       "      <td>813951.0</td>\n",
       "      <td>813951.0</td>\n",
       "      <td>813951.0</td>\n",
       "      <td>813951.0</td>\n",
       "    </tr>\n",
       "    <tr>\n",
       "      <th>3</th>\n",
       "      <td>Bemowo</td>\n",
       "      <td>pierwotny</td>\n",
       "      <td>2020-04-05</td>\n",
       "      <td>542640.0</td>\n",
       "      <td>794448.0</td>\n",
       "      <td>610500.0</td>\n",
       "      <td>610500.0</td>\n",
       "      <td>610500.0</td>\n",
       "      <td>610500.0</td>\n",
       "      <td>663662.0</td>\n",
       "      <td>793147.0</td>\n",
       "      <td>763854.0</td>\n",
       "      <td>763854.0</td>\n",
       "      <td>763854.0</td>\n",
       "      <td>763854.0</td>\n",
       "    </tr>\n",
       "    <tr>\n",
       "      <th>4</th>\n",
       "      <td>Bemowo</td>\n",
       "      <td>pierwotny</td>\n",
       "      <td>2020-04-12</td>\n",
       "      <td>580000.0</td>\n",
       "      <td>561320.0</td>\n",
       "      <td>580000.0</td>\n",
       "      <td>595250.0</td>\n",
       "      <td>595250.0</td>\n",
       "      <td>595250.0</td>\n",
       "      <td>575461.0</td>\n",
       "      <td>619561.0</td>\n",
       "      <td>720585.0</td>\n",
       "      <td>716756.0</td>\n",
       "      <td>716756.0</td>\n",
       "      <td>716756.0</td>\n",
       "    </tr>\n",
       "    <tr>\n",
       "      <th>...</th>\n",
       "      <td>...</td>\n",
       "      <td>...</td>\n",
       "      <td>...</td>\n",
       "      <td>...</td>\n",
       "      <td>...</td>\n",
       "      <td>...</td>\n",
       "      <td>...</td>\n",
       "      <td>...</td>\n",
       "      <td>...</td>\n",
       "      <td>...</td>\n",
       "      <td>...</td>\n",
       "      <td>...</td>\n",
       "      <td>...</td>\n",
       "      <td>...</td>\n",
       "      <td>...</td>\n",
       "    </tr>\n",
       "    <tr>\n",
       "      <th>1933</th>\n",
       "      <td>Żoliborz</td>\n",
       "      <td>wtorny</td>\n",
       "      <td>2021-02-28</td>\n",
       "      <td>665000.0</td>\n",
       "      <td>657000.0</td>\n",
       "      <td>649000.0</td>\n",
       "      <td>632000.0</td>\n",
       "      <td>595000.0</td>\n",
       "      <td>592500.0</td>\n",
       "      <td>713783.0</td>\n",
       "      <td>710513.0</td>\n",
       "      <td>673599.0</td>\n",
       "      <td>673737.0</td>\n",
       "      <td>668146.0</td>\n",
       "      <td>665325.0</td>\n",
       "    </tr>\n",
       "    <tr>\n",
       "      <th>1934</th>\n",
       "      <td>Żoliborz</td>\n",
       "      <td>wtorny</td>\n",
       "      <td>2021-03-07</td>\n",
       "      <td>572500.0</td>\n",
       "      <td>618750.0</td>\n",
       "      <td>649000.0</td>\n",
       "      <td>610750.0</td>\n",
       "      <td>594000.0</td>\n",
       "      <td>592500.0</td>\n",
       "      <td>663485.0</td>\n",
       "      <td>688634.0</td>\n",
       "      <td>694837.0</td>\n",
       "      <td>671070.0</td>\n",
       "      <td>669793.0</td>\n",
       "      <td>670124.0</td>\n",
       "    </tr>\n",
       "    <tr>\n",
       "      <th>1935</th>\n",
       "      <td>Żoliborz</td>\n",
       "      <td>wtorny</td>\n",
       "      <td>2021-03-14</td>\n",
       "      <td>610000.0</td>\n",
       "      <td>591250.0</td>\n",
       "      <td>610000.0</td>\n",
       "      <td>629500.0</td>\n",
       "      <td>591500.0</td>\n",
       "      <td>610000.0</td>\n",
       "      <td>672270.0</td>\n",
       "      <td>667878.0</td>\n",
       "      <td>683179.0</td>\n",
       "      <td>689195.0</td>\n",
       "      <td>661215.0</td>\n",
       "      <td>668771.0</td>\n",
       "    </tr>\n",
       "    <tr>\n",
       "      <th>1936</th>\n",
       "      <td>Żoliborz</td>\n",
       "      <td>wtorny</td>\n",
       "      <td>2021-03-21</td>\n",
       "      <td>465000.0</td>\n",
       "      <td>537500.0</td>\n",
       "      <td>572500.0</td>\n",
       "      <td>591250.0</td>\n",
       "      <td>591500.0</td>\n",
       "      <td>592500.0</td>\n",
       "      <td>512238.0</td>\n",
       "      <td>592254.0</td>\n",
       "      <td>615998.0</td>\n",
       "      <td>640444.0</td>\n",
       "      <td>646403.0</td>\n",
       "      <td>655614.0</td>\n",
       "    </tr>\n",
       "    <tr>\n",
       "      <th>1937</th>\n",
       "      <td>Żoliborz</td>\n",
       "      <td>wtorny</td>\n",
       "      <td>2021-03-28</td>\n",
       "      <td>543000.0</td>\n",
       "      <td>504000.0</td>\n",
       "      <td>543000.0</td>\n",
       "      <td>557750.0</td>\n",
       "      <td>591250.0</td>\n",
       "      <td>574000.0</td>\n",
       "      <td>643109.0</td>\n",
       "      <td>577673.0</td>\n",
       "      <td>609206.0</td>\n",
       "      <td>622776.0</td>\n",
       "      <td>648256.0</td>\n",
       "      <td>653022.0</td>\n",
       "    </tr>\n",
       "  </tbody>\n",
       "</table>\n",
       "<p>1938 rows × 15 columns</p>\n",
       "</div>"
      ],
      "text/plain": [
       "     GC_addr_suburb     market date_offer_d  price_median_01w  \\\n",
       "0            Bemowo  pierwotny   2020-03-15               NaN   \n",
       "1            Bemowo  pierwotny   2020-03-22          610500.0   \n",
       "2            Bemowo  pierwotny   2020-03-29         1046257.0   \n",
       "3            Bemowo  pierwotny   2020-04-05          542640.0   \n",
       "4            Bemowo  pierwotny   2020-04-12          580000.0   \n",
       "...             ...        ...          ...               ...   \n",
       "1933       Żoliborz     wtorny   2021-02-28          665000.0   \n",
       "1934       Żoliborz     wtorny   2021-03-07          572500.0   \n",
       "1935       Żoliborz     wtorny   2021-03-14          610000.0   \n",
       "1936       Żoliborz     wtorny   2021-03-21          465000.0   \n",
       "1937       Żoliborz     wtorny   2021-03-28          543000.0   \n",
       "\n",
       "      price_median_02w  price_median_03w  price_median_04w  price_median_08w  \\\n",
       "0                  NaN               NaN               NaN               NaN   \n",
       "1             610500.0          610500.0          610500.0          610500.0   \n",
       "2             828378.0          828378.0          828378.0          828378.0   \n",
       "3             794448.0          610500.0          610500.0          610500.0   \n",
       "4             561320.0          580000.0          595250.0          595250.0   \n",
       "...                ...               ...               ...               ...   \n",
       "1933          657000.0          649000.0          632000.0          595000.0   \n",
       "1934          618750.0          649000.0          610750.0          594000.0   \n",
       "1935          591250.0          610000.0          629500.0          591500.0   \n",
       "1936          537500.0          572500.0          591250.0          591500.0   \n",
       "1937          504000.0          543000.0          557750.0          591250.0   \n",
       "\n",
       "      price_median_12w  price_mean_01w  price_mean_02w  price_mean_03w  \\\n",
       "0                  NaN             NaN             NaN             NaN   \n",
       "1             610500.0        705270.0        705270.0        705270.0   \n",
       "2             828378.0        922631.0        813951.0        813951.0   \n",
       "3             610500.0        663662.0        793147.0        763854.0   \n",
       "4             595250.0        575461.0        619561.0        720585.0   \n",
       "...                ...             ...             ...             ...   \n",
       "1933          592500.0        713783.0        710513.0        673599.0   \n",
       "1934          592500.0        663485.0        688634.0        694837.0   \n",
       "1935          610000.0        672270.0        667878.0        683179.0   \n",
       "1936          592500.0        512238.0        592254.0        615998.0   \n",
       "1937          574000.0        643109.0        577673.0        609206.0   \n",
       "\n",
       "      price_mean_04w  price_mean_08w  price_mean_12w  \n",
       "0                NaN             NaN             NaN  \n",
       "1           705270.0        705270.0        705270.0  \n",
       "2           813951.0        813951.0        813951.0  \n",
       "3           763854.0        763854.0        763854.0  \n",
       "4           716756.0        716756.0        716756.0  \n",
       "...              ...             ...             ...  \n",
       "1933        673737.0        668146.0        665325.0  \n",
       "1934        671070.0        669793.0        670124.0  \n",
       "1935        689195.0        661215.0        668771.0  \n",
       "1936        640444.0        646403.0        655614.0  \n",
       "1937        622776.0        648256.0        653022.0  \n",
       "\n",
       "[1938 rows x 15 columns]"
      ]
     },
     "execution_count": 11,
     "metadata": {},
     "output_type": "execute_result"
    }
   ],
   "source": [
    "df_aggr"
   ]
  },
  {
   "cell_type": "code",
   "execution_count": 15,
   "id": "molecular-estonia",
   "metadata": {},
   "outputs": [
    {
     "data": {
      "text/plain": [
       "Timestamp('2021-03-27 00:45:10')"
      ]
     },
     "execution_count": 15,
     "metadata": {},
     "output_type": "execute_result"
    }
   ],
   "source": [
    "df.date_offer.max()"
   ]
  },
  {
   "cell_type": "code",
   "execution_count": 13,
   "id": "imposed-sweden",
   "metadata": {},
   "outputs": [
    {
     "data": {
      "text/plain": [
       "GC_addr_suburb  market   \n",
       "Bemowo          pierwotny   2021-03-28\n",
       "                wtorny      2021-03-28\n",
       "Białołęka       pierwotny   2021-03-28\n",
       "                wtorny      2021-03-28\n",
       "Bielany         pierwotny   2021-03-28\n",
       "                wtorny      2021-03-28\n",
       "Mokotów         pierwotny   2021-03-28\n",
       "                wtorny      2021-03-28\n",
       "Ochota          pierwotny   2021-03-28\n",
       "                wtorny      2021-03-28\n",
       "Praga-Południe  pierwotny   2021-03-28\n",
       "                wtorny      2021-03-28\n",
       "Praga-Północ    pierwotny   2021-03-28\n",
       "                wtorny      2021-03-28\n",
       "Rembertów       pierwotny   2021-03-28\n",
       "                wtorny      2021-03-28\n",
       "Sielce          pierwotny   2020-06-14\n",
       "                wtorny      2020-06-14\n",
       "Targówek        pierwotny   2021-03-28\n",
       "                wtorny      2021-03-28\n",
       "Ursus           pierwotny   2021-03-28\n",
       "                wtorny      2021-03-28\n",
       "Ursynów         pierwotny   2021-03-28\n",
       "                wtorny      2021-03-28\n",
       "Wawer           pierwotny   2021-03-28\n",
       "                wtorny      2021-03-28\n",
       "Wilanów         pierwotny   2021-03-28\n",
       "                wtorny      2021-03-28\n",
       "Wola            pierwotny   2021-03-28\n",
       "                wtorny      2021-03-28\n",
       "Włochy          pierwotny   2021-03-28\n",
       "                wtorny      2021-03-28\n",
       "Śródmieście     pierwotny   2021-03-28\n",
       "                wtorny      2021-03-28\n",
       "Żoliborz        pierwotny   2021-03-28\n",
       "                wtorny      2021-03-28\n",
       "Name: date_offer_d, dtype: datetime64[ns]"
      ]
     },
     "execution_count": 13,
     "metadata": {},
     "output_type": "execute_result"
    }
   ],
   "source": [
    "df_aggr.groupby(['GC_addr_suburb','market']).max()['date_offer_d']"
   ]
  }
 ],
 "metadata": {
  "kernelspec": {
   "display_name": "xflats",
   "language": "python",
   "name": "python3"
  },
  "language_info": {
   "codemirror_mode": {
    "name": "ipython",
    "version": 3
   },
   "file_extension": ".py",
   "mimetype": "text/x-python",
   "name": "python",
   "nbconvert_exporter": "python",
   "pygments_lexer": "ipython3",
   "version": "3.8.8"
  }
 },
 "nbformat": 4,
 "nbformat_minor": 5
}
